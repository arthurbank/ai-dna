{
 "cells": [
  {
   "cell_type": "markdown",
   "id": "7be06c00-1910-4477-a9c1-ebc96fb19e3a",
   "metadata": {},
   "source": [
    "# Bubble Sort\n",
    "\n",
    "## How does Bubble Sort work?\n",
    "\n",
    "\n",
    "Bubble Sort is a simple sorting algorithm that repeatedly steps through the list, compares adjacent elements, and swaps them if they are in the wrong order. The pass through the list is repeated until the list is sorted.\n",
    "\n",
    "## What are the time complexities of Bubble Sort?\n",
    "\n",
    "Time complexity is the amount of time it takes for Bubble Sort to sort a list as numbers as a function of the size of the list of numbers:\n",
    "\n",
    "- Best Case: Ω(n) - linear lower bound, even in the best case the algorithm requires linear time relative to the size of the input list of numbers.\n",
    "- Worst Case: O(n^2) - quadratic upper bound, the time it takes to execute grows quadratically with the size of input list of numbers.\n",
    "- Average Case: Θ(n^2) - quadratic tight bound, indicates Bubble Sort consistently runs in quadratic time regardless of the specific input.\n",
    "\n",
    "We will calculate the worst case example later in this notebook.\n",
    "\n",
    "## What is the space complexity of Bubble Sort?\n",
    "\n",
    "Space complexity is the amount of memory space that Bubble Sort uses to sort a list of numbers as a function of the size of the list of number (not including the memory needed to store the initial list).\n",
    "\n",
    "#The space complexity for Bubble Sort is O(1), which means it remains constant as the size of the numbers increases.  It remains constant because Bubble Sort operates on the initial memory space of the list of numbers, swapping elements as needed.  We call such an algorithm that operates on the memory space of it's input an **in-place** algorithm.  In-place algorithms are useful if memory is a constraint.  The tradeoff is that their time complexity is generally larger than out-of-place algorithms (in-place is slower to compute).  Another potential disadvantage is that we have **mutated** the initial list of numbers.  If our use-case required us to know the original unsorted order of the list of numbers, we lose it when we perform an in-place sort."
   ]
  },
  {
   "cell_type": "code",
   "execution_count": 21,
   "id": "20d451e8-416d-441a-bb61-e5e618f070f8",
   "metadata": {},
   "outputs": [],
   "source": [
    "# Let's define Bubble Sort\n",
    "\n",
    "def bubble_sort(numbers):\n",
    "    # Keep a count of comparisons and assignments, starting the counters at zero.\n",
    "    num_comparisons = 0\n",
    "    num_assignments = 0\n",
    "\n",
    "    # n is the length of the list of numbers\n",
    "    n = len(numbers)\n",
    "\n",
    "    # Loop over every number in the list of numbers (i is the index of the number in the outer loop)\n",
    "    for i in range(n):\n",
    "        # Loop over every number up to length of the list MINUS the current index of the outer loop MINUS 1 (because programmers count the numbers from 0 to n - 1)\n",
    "        for j in range(0, n - i - 1):\n",
    "            num_comparisons += 1\n",
    "            # If the number at the current index of the inner loop is larger than the number after it, swap those two numbers\n",
    "            if numbers[j] > numbers[j+1]:\n",
    "                numbers[j], numbers[j+1]= numbers[j+1], numbers[j]\n",
    "                num_assignments += 2\n",
    "    return num_comparisons, num_assignments"
   ]
  },
  {
   "cell_type": "code",
   "execution_count": 22,
   "id": "9bf10c43-37a3-4578-8e11-a37b7dc78d50",
   "metadata": {},
   "outputs": [
    {
     "name": "stdout",
     "output_type": "stream",
     "text": [
      "The number of comparisons was 6 The number of assignments was 6.\n",
      "The sorted list of numbers is [0, 3, 5, 6]\n"
     ]
    }
   ],
   "source": [
    "numbers= [6,0,3,5]\n",
    "comparisons, assignments = bubble_sort(numbers)\n",
    "print(\"The number of comparisons was {} The number of assignments was {}.\".format(comparisons, assignments))\n",
    "print(\"The sorted list of numbers is {}\".format(numbers))"
   ]
  },
  {
   "cell_type": "code",
   "execution_count": 23,
   "id": "c20fda1e-7cb5-4472-8f8f-f3f58ffc81f5",
   "metadata": {},
   "outputs": [
    {
     "name": "stdout",
     "output_type": "stream",
     "text": [
      "The number of comparisons was 4950 The number of assignments was 0.\n",
      "The sorted list of numbers is [1, 2, 3, 4, 5, 6, 7, 8, 9, 10, 11, 12, 13, 14, 15, 16, 17, 18, 19, 20, 21, 22, 23, 24, 25, 26, 27, 28, 29, 30, 31, 32, 33, 34, 35, 36, 37, 38, 39, 40, 41, 42, 43, 44, 45, 46, 47, 48, 49, 50, 51, 52, 53, 54, 55, 56, 57, 58, 59, 60, 61, 62, 63, 64, 65, 66, 67, 68, 69, 70, 71, 72, 73, 74, 75, 76, 77, 78, 79, 80, 81, 82, 83, 84, 85, 86, 87, 88, 89, 90, 91, 92, 93, 94, 95, 96, 97, 98, 99, 100]\n"
     ]
    }
   ],
   "source": [
    "numbers = [i for i in range(1, 101)]\n",
    "comparisons, assignments = bubble_sort(numbers)\n",
    "print(\"The number of comparisons was {} The number of assignments was {}.\".format(comparisons, assignments))\n",
    "print(\"The sorted list of numbers is {}\".format(numbers))"
   ]
  },
  {
   "cell_type": "code",
   "execution_count": 24,
   "id": "29794f0a-4259-465d-8f64-1838b3297e3c",
   "metadata": {},
   "outputs": [
    {
     "name": "stdout",
     "output_type": "stream",
     "text": [
      "The number of comparisons was 4950 The number of assignments was 9900.\n",
      "The sorted list of numbers is [1, 2, 3, 4, 5, 6, 7, 8, 9, 10, 11, 12, 13, 14, 15, 16, 17, 18, 19, 20, 21, 22, 23, 24, 25, 26, 27, 28, 29, 30, 31, 32, 33, 34, 35, 36, 37, 38, 39, 40, 41, 42, 43, 44, 45, 46, 47, 48, 49, 50, 51, 52, 53, 54, 55, 56, 57, 58, 59, 60, 61, 62, 63, 64, 65, 66, 67, 68, 69, 70, 71, 72, 73, 74, 75, 76, 77, 78, 79, 80, 81, 82, 83, 84, 85, 86, 87, 88, 89, 90, 91, 92, 93, 94, 95, 96, 97, 98, 99, 100]\n"
     ]
    }
   ],
   "source": [
    "numbers = [i for i in range(100, 0, -1)]\n",
    "comparisons, assignments = bubble_sort(numbers)\n",
    "print(\"The number of comparisons was {} The number of assignments was {}.\".format(comparisons, assignments))\n",
    "print(\"The sorted list of numbers is {}\".format(numbers))"
   ]
  },
  {
   "cell_type": "code",
   "execution_count": 25,
   "id": "388ec506-c193-40a1-b226-082a6ad65332",
   "metadata": {},
   "outputs": [
    {
     "data": {
      "image/jpeg": "[encoded data removed]",
      "text/html": [
       "\n",
       "        <iframe\n",
       "            width=\"800\"\n",
       "            height=\"300\"\n",
       "            src=\"https://www.youtube.com/embed/Cq7SMsQBEUw\"\n",
       "            frameborder=\"0\"\n",
       "            allowfullscreen\n",
       "            \n",
       "        ></iframe>\n",
       "        "
      ],
      "text/plain": [
       "<IPython.lib.display.YouTubeVideo at 0x1c0efd47b30>"
      ]
     },
     "execution_count": 25,
     "metadata": {},
     "output_type": "execute_result"
    }
   ],
   "source": [
    "# Show a YouTube video visualizing the Bubble Sort for 100 numbers\n",
    "\n",
    "from IPython.display import YouTubeVideo\n",
    "\n",
    "YouTubeVideo('Cq7SMsQBEUw', width = 800, height = 300)"
   ]
  },
  {
   "cell_type": "markdown",
   "id": "038c9ece-1d43-465a-8b01-cef1a2c7aa11",
   "metadata": {},
   "source": [
    "As we can see from the visualization, the red bar passes over the list of numbers from left to right (the inner loop).  After each pass, the bar at the end of the list becomes the biggest number in the list.  The red bar scans the list of numbers for how many numbers their are in the list (the outer loop)."
   ]
  },
  {
   "cell_type": "markdown",
   "id": "5b4ec686-cac6-439f-9552-c77830e71eb1",
   "metadata": {},
   "source": [
    "# Worst Case Complexity Calculation\n",
    "\n",
    "Bubble Sort's worst nightmare is a list of numbers sorted in descending order, `[9, 8, 7, 6, 5, 4, 3, 2, 1, 0]`.  Each element will end up getting swapped all the way to the end of the list.  The `9` will end up getting swapped nine times, then the `8` will end up getting swapped eight times, and so on.  The number of the swaps is then the sum of 1 up to the size of the list of numbers:\n",
    "\n",
    "$$1 + 2 + 3 + 4 + 5 + 6 + 7 + 8 + 9 = 45$$\n",
    "\n",
    "Thanks to [Carl Friedrich Gauss](https://en.wikipedia.org/wiki/Carl_Friedrich_Gauss), we have a closed for solution for this sum:\n",
    "\n",
    "$$\\sum_{k=1}^{n} k = \\frac{n \\cdot (n + 1)}{2}$$\n",
    "\n",
    "Expanded, it looks like:\n",
    "\n",
    "$$\\frac{n^2}{2} - \\frac{n}{2}$$\n",
    "\n",
    "In asymptotic analysis (what happens when the size of our list of numbers gets very large), constants and terms with lowers powers will have a limited impact on the growth rate.  So we can omit them in representing the time complexity and simply write:\n",
    "\n",
    "$$n^2$$\n",
    "\n",
    "And so represent the worst case complexity as O(n^2)"
   ]
  },
  {
   "cell_type": "code",
   "execution_count": null,
   "id": "a2bc697e-683a-4df9-b566-746992a6c58b",
   "metadata": {},
   "outputs": [],
   "source": []
  }
 ],
 "metadata": {
  "kernelspec": {
   "display_name": "Python 3 (ipykernel)",
   "language": "python",
   "name": "python3"
  },
  "language_info": {
   "codemirror_mode": {
    "name": "ipython",
    "version": 3
   },
   "file_extension": ".py",
   "mimetype": "text/x-python",
   "name": "python",
   "nbconvert_exporter": "python",
   "pygments_lexer": "ipython3",
   "version": "3.12.2"
  }
 },
 "nbformat": 4,
 "nbformat_minor": 5
}
